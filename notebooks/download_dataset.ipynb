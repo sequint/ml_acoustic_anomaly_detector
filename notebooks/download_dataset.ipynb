{
 "cells": [
  {
   "cell_type": "code",
   "execution_count": 1,
   "id": "d9d07155-448f-4001-8291-77a800bfe409",
   "metadata": {
    "tags": []
   },
   "outputs": [],
   "source": [
    "# built-in\n",
    "import os\n",
    "\n",
    "# libraries\n",
    "import requests\n",
    "import py7zr\n",
    "from tqdm import tqdm"
   ]
  },
  {
   "cell_type": "code",
   "execution_count": 3,
   "id": "7b997817-1a61-433b-b89f-8f6910372e5e",
   "metadata": {
    "tags": []
   },
   "outputs": [
    {
     "name": "stderr",
     "output_type": "stream",
     "text": [
      "/opt/anaconda3/lib/python3.11/site-packages/urllib3/connectionpool.py:1100: InsecureRequestWarning: Unverified HTTPS request is being made to host 'zenodo.org'. Adding certificate verification is strongly advised. See: https://urllib3.readthedocs.io/en/latest/advanced-usage.html#tls-warnings\n",
      "  warnings.warn(\n",
      "/opt/anaconda3/lib/python3.11/site-packages/urllib3/connectionpool.py:1100: InsecureRequestWarning: Unverified HTTPS request is being made to host 'zenodo.org'. Adding certificate verification is strongly advised. See: https://urllib3.readthedocs.io/en/latest/advanced-usage.html#tls-warnings\n",
      "  warnings.warn(\n",
      "Downloading file {url}: 192508KB [01:32, 2083.01KB/s]                            \n"
     ]
    },
    {
     "name": "stdout",
     "output_type": "stream",
     "text": [
      "Download completed: data/BrushlessMotor.7z\n"
     ]
    },
    {
     "name": "stderr",
     "output_type": "stream",
     "text": [
      "/opt/anaconda3/lib/python3.11/site-packages/urllib3/connectionpool.py:1100: InsecureRequestWarning: Unverified HTTPS request is being made to host 'zenodo.org'. Adding certificate verification is strongly advised. See: https://urllib3.readthedocs.io/en/latest/advanced-usage.html#tls-warnings\n",
      "  warnings.warn(\n",
      "/opt/anaconda3/lib/python3.11/site-packages/urllib3/connectionpool.py:1100: InsecureRequestWarning: Unverified HTTPS request is being made to host 'zenodo.org'. Adding certificate verification is strongly advised. See: https://urllib3.readthedocs.io/en/latest/advanced-usage.html#tls-warnings\n",
      "  warnings.warn(\n",
      "Downloading file {url}: 432795KB [03:19, 2168.54KB/s]                            \n"
     ]
    },
    {
     "name": "stdout",
     "output_type": "stream",
     "text": [
      "Download completed: data/RoboticArm.7z\n",
      "Extraction completed: data/BrushlessMotor.7z to data\n",
      "Removed the .7z file: data/BrushlessMotor.7z\n",
      "Extraction completed: data/RoboticArm.7z to data\n",
      "Removed the .7z file: data/RoboticArm.7z\n"
     ]
    }
   ],
   "source": [
    "def download_file(url, local_filename):\n",
    "    # Stream the download to avoid loading the entire file into memory\n",
    "    with requests.get(url, stream=True, verify=False) as r:\n",
    "        r.raise_for_status()\n",
    "        # Get the total file size from the headers\n",
    "        total_size = int(r.headers.get('content-length', 0))\n",
    "        # Open the local file for writing in binary mode\n",
    "        with open(local_filename, 'wb') as f:\n",
    "            # Use tqdm to display a progress bar\n",
    "            for chunk in tqdm(\n",
    "                    r.iter_content(\n",
    "                        chunk_size=8192),\n",
    "                    total=total_size // 8192,\n",
    "                    unit='KB',\n",
    "                    desc='Downloading file {url}'):\n",
    "                if chunk:  # Filter out keep-alive new chunks\n",
    "                    f.write(chunk)\n",
    "    print(f\"Download completed: {local_filename}\")\n",
    "\n",
    "\n",
    "def unzip_7z_file(file_path, extract_to):\n",
    "    # Ensure the destination directory exists\n",
    "    if not os.path.exists(extract_to):\n",
    "        os.makedirs(extract_to)\n",
    "\n",
    "    # Open the .7z file and extract its contents\n",
    "    with py7zr.SevenZipFile(file_path, mode='r') as archive:\n",
    "        archive.extractall(path=extract_to)\n",
    "\n",
    "    print(f\"Extraction completed: {file_path} to {extract_to}\")\n",
    "    # Remove the .7z file after extraction\n",
    "    os.remove(file_path)\n",
    "    print(f\"Removed the .7z file: {file_path}\")\n",
    "\n",
    "\n",
    "os.makedirs('data', exist_ok=True)\n",
    "\n",
    "# Download data\n",
    "download_file(\n",
    "    url='https://zenodo.org/record/12665499/files/BrushlessMotor.7z',\n",
    "    local_filename='data/raw/BrushlessMotor.7z')\n",
    "download_file(\n",
    "    url='https://zenodo.org/record/12665499/files/RoboticArm.7z',\n",
    "    local_filename='data/raw/RoboticArm.7z')\n",
    "\n",
    "# Extract data from archives\n",
    "unzip_7z_file(file_path='data/raw/BrushlessMotor.7z', extract_to='data')\n",
    "unzip_7z_file(file_path='data/raw/RoboticArm.7z', extract_to='data')"
   ]
  },
  {
   "cell_type": "code",
   "execution_count": null,
   "id": "53159c50-5195-4031-80cf-8f9de068f478",
   "metadata": {},
   "outputs": [],
   "source": []
  }
 ],
 "metadata": {
  "kernelspec": {
   "display_name": "Python 3 (ipykernel)",
   "language": "python",
   "name": "python3"
  },
  "language_info": {
   "codemirror_mode": {
    "name": "ipython",
    "version": 3
   },
   "file_extension": ".py",
   "mimetype": "text/x-python",
   "name": "python",
   "nbconvert_exporter": "python",
   "pygments_lexer": "ipython3",
   "version": "3.11.7"
  }
 },
 "nbformat": 4,
 "nbformat_minor": 5
}
